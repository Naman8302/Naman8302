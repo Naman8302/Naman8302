{
 "cells": [
  {
   "cell_type": "code",
   "execution_count": 1,
   "id": "2227f9dc",
   "metadata": {},
   "outputs": [],
   "source": [
    "from transformers import RobertaTokenizer, RobertaForSequenceClassification\n",
    "import torch"
   ]
  },
  {
   "cell_type": "code",
   "execution_count": 3,
   "id": "3c5d8182",
   "metadata": {},
   "outputs": [
    {
     "name": "stderr",
     "output_type": "stream",
     "text": [
      "Some weights of the model checkpoint at roberta-base were not used when initializing RobertaForSequenceClassification: ['lm_head.decoder.weight', 'roberta.pooler.dense.bias', 'lm_head.dense.bias', 'lm_head.layer_norm.bias', 'roberta.pooler.dense.weight', 'lm_head.dense.weight', 'lm_head.layer_norm.weight', 'lm_head.bias']\n",
      "- This IS expected if you are initializing RobertaForSequenceClassification from the checkpoint of a model trained on another task or with another architecture (e.g. initializing a BertForSequenceClassification model from a BertForPreTraining model).\n",
      "- This IS NOT expected if you are initializing RobertaForSequenceClassification from the checkpoint of a model that you expect to be exactly identical (initializing a BertForSequenceClassification model from a BertForSequenceClassification model).\n",
      "Some weights of RobertaForSequenceClassification were not initialized from the model checkpoint at roberta-base and are newly initialized: ['classifier.out_proj.bias', 'classifier.dense.bias', 'classifier.out_proj.weight', 'classifier.dense.weight']\n",
      "You should probably TRAIN this model on a down-stream task to be able to use it for predictions and inference.\n"
     ]
    }
   ],
   "source": [
    "model_name = 'roberta-base' \n",
    "tokenizer = RobertaTokenizer.from_pretrained(\"roberta-base\")\n",
    "model = RobertaForSequenceClassification.from_pretrained(\"roberta-base\")"
   ]
  },
  {
   "cell_type": "code",
   "execution_count": 4,
   "id": "c3364296",
   "metadata": {},
   "outputs": [],
   "source": [
    "input_text = \"In the early morning light, the meadow appeared serene, bathed in sunlight that painted the wildflowers in soft hues. The melody of birdsong filled the air as a gentle stream wound its way through the landscape, reflecting the vibrant colors of nature. The scent of flowers and grass lingered in the breeze, offering a refreshing sensation. In the distance, towering mountains stood against the blue sky, their peaks crowned by wispy clouds. This scene exuded tranquility, a moment of perfect stillness amidst the bustling world. It seemed as though time itself paused to appreciate the beauty of creation. As the day progressed, the meadow would teem with life, but for now, it remained a sanctuary of peace, inviting contemplation and connection with the natural world.\"\n",
    "inputs = tokenizer(input_text, return_tensors='pt')\n",
    "\n",
    "outputs = model(**inputs)\n",
    "predictions = outputs.logits\n"
   ]
  },
  {
   "cell_type": "code",
   "execution_count": 6,
   "id": "7cedb1dc",
   "metadata": {
    "scrolled": true
   },
   "outputs": [
    {
     "name": "stdout",
     "output_type": "stream",
     "text": [
      "Probability of Machine: 0.5259\n",
      "Probability of human: 0.4741\n"
     ]
    }
   ],
   "source": [
    "import torch.nn.functional as F\n",
    "\n",
    "labels = [\"Machine\", \"human\"]\n",
    "probabilities = F.softmax(predictions, dim=1)\n",
    "probabilities = probabilities.tolist()[0]\n",
    "predictions_with_labels = [(label, probability) for label, probability in zip(labels, probabilities)]\n",
    "\n",
    "for label, probability in predictions_with_labels:\n",
    "    print(f\"Probability of {label}: {probability:.4f}\")\n"
   ]
  },
  {
   "cell_type": "code",
   "execution_count": null,
   "id": "803d81c4",
   "metadata": {},
   "outputs": [],
   "source": []
  }
 ],
 "metadata": {
  "kernelspec": {
   "display_name": "Python 3 (ipykernel)",
   "language": "python",
   "name": "python3"
  },
  "language_info": {
   "codemirror_mode": {
    "name": "ipython",
    "version": 3
   },
   "file_extension": ".py",
   "mimetype": "text/x-python",
   "name": "python",
   "nbconvert_exporter": "python",
   "pygments_lexer": "ipython3",
   "version": "3.11.7"
  }
 },
 "nbformat": 4,
 "nbformat_minor": 5
}
